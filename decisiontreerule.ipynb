{
  "nbformat": 4,
  "nbformat_minor": 0,
  "metadata": {
    "colab": {
      "provenance": [],
      "authorship_tag": "ABX9TyP4wYQt7UXOXBkF5rM5iUec",
      "include_colab_link": true
    },
    "kernelspec": {
      "name": "python3",
      "display_name": "Python 3"
    },
    "language_info": {
      "name": "python"
    }
  },
  "cells": [
    {
      "cell_type": "markdown",
      "metadata": {
        "id": "view-in-github",
        "colab_type": "text"
      },
      "source": [
        "<a href=\"https://colab.research.google.com/github/MochamadFarhanAbdullah/preprocessing_dataMining/blob/master/decisiontreerule.ipynb\" target=\"_parent\"><img src=\"https://colab.research.google.com/assets/colab-badge.svg\" alt=\"Open In Colab\"/></a>"
      ]
    },
    {
      "cell_type": "code",
      "execution_count": null,
      "metadata": {
        "id": "mqyXuI8iyL5u"
      },
      "outputs": [],
      "source": [
        "from sklearn.tree import DecisionTreeClassifier\n",
        "from sklearn import datasets\n",
        "import matplotlib.pyplot as plt"
      ]
    },
    {
      "cell_type": "code",
      "source": [
        "iris = datasets.load_iris()\n",
        "features = iris['data']\n",
        "target = iris['target']"
      ],
      "metadata": {
        "id": "FYXtRsnAybxZ"
      },
      "execution_count": null,
      "outputs": []
    },
    {
      "cell_type": "code",
      "source": [
        "decisiontree = DecisionTreeClassifier(random_state = 0, max_depth = None, min_samples_split = 2, min_samples_leaf = 1, min_weight_fraction_leaf = 0, max_leaf_nodes = None, min_impurity_decrease = 0)"
      ],
      "metadata": {
        "id": "25-3yvcpyjwd"
      },
      "execution_count": null,
      "outputs": []
    },
    {
      "cell_type": "code",
      "source": [
        "model = decisiontree.fit(features, target)"
      ],
      "metadata": {
        "id": "Y_IBEa7ay4oY"
      },
      "execution_count": null,
      "outputs": []
    },
    {
      "cell_type": "code",
      "source": [
        "observation = [[5, 4, 3, 2]]\n",
        "model.predict(observation)\n",
        "model.predict_proba(observation)"
      ],
      "metadata": {
        "colab": {
          "base_uri": "https://localhost:8080/"
        },
        "id": "xb5AWMySy804",
        "outputId": "14a79b73-471b-40e3-d5ba-0a0fe0d5e95a"
      },
      "execution_count": null,
      "outputs": [
        {
          "output_type": "execute_result",
          "data": {
            "text/plain": [
              "array([[0., 1., 0.]])"
            ]
          },
          "metadata": {},
          "execution_count": 6
        }
      ]
    },
    {
      "cell_type": "code",
      "source": [
        "import pydotplus\n",
        "from sklearn import tree\n",
        "dot_data = tree.export_graphviz(decisiontree, out_file = None, feature_names = iris['feature_names'], class_names = iris['target_names'])\n",
        "from IPython.display import Image\n",
        "graph = pydotplus.graph_from_dot_data(dot_data)\n",
        "Image(graph.create_png())\n",
        "graph.write_png(\"D:\\iris.png\")"
      ],
      "metadata": {
        "colab": {
          "base_uri": "https://localhost:8080/"
        },
        "id": "mkznK94nzEMC",
        "outputId": "298af60b-c9ab-4eef-fc29-c99eac67cbd2"
      },
      "execution_count": null,
      "outputs": [
        {
          "output_type": "execute_result",
          "data": {
            "text/plain": [
              "True"
            ]
          },
          "metadata": {},
          "execution_count": 10
        }
      ]
    }
  ]
}