{
  "nbformat": 4,
  "nbformat_minor": 0,
  "metadata": {
    "colab": {
      "provenance": [],
      "authorship_tag": "ABX9TyN/7k0pKRPrBpeK8/gT51Qw",
      "include_colab_link": true
    },
    "kernelspec": {
      "name": "python3",
      "display_name": "Python 3"
    },
    "language_info": {
      "name": "python"
    }
  },
  "cells": [
    {
      "cell_type": "markdown",
      "metadata": {
        "id": "view-in-github",
        "colab_type": "text"
      },
      "source": [
        "<a href=\"https://colab.research.google.com/github/MochamadFarhanAbdullah/preprocessing_dataMining/blob/master/naive_bayes.ipynb\" target=\"_parent\"><img src=\"https://colab.research.google.com/assets/colab-badge.svg\" alt=\"Open In Colab\"/></a>"
      ]
    },
    {
      "cell_type": "code",
      "execution_count": 39,
      "metadata": {
        "id": "oY2D6K27oCy5"
      },
      "outputs": [],
      "source": [
        "import numpy as np\n",
        "import matplotlib.pyplot as plt\n",
        "import pandas as pd"
      ]
    },
    {
      "cell_type": "code",
      "source": [
        "dataset = pd.read_csv('Naive-Bayes-Classification-Data.csv')\n",
        "x = dataset.iloc[:, [1, 2]].values\n",
        "y = dataset.iloc[:, -1].values"
      ],
      "metadata": {
        "id": "gNYTdUCwoUu9"
      },
      "execution_count": 41,
      "outputs": []
    },
    {
      "cell_type": "code",
      "source": [
        "print(x)"
      ],
      "metadata": {
        "colab": {
          "base_uri": "https://localhost:8080/"
        },
        "id": "B-65B_13Brym",
        "outputId": "8b36f83a-06fa-4a1f-9b5d-77d914c515c7"
      },
      "execution_count": 42,
      "outputs": [
        {
          "output_type": "stream",
          "name": "stdout",
          "text": [
            "[[85  0]\n",
            " [92  0]\n",
            " [63  1]\n",
            " ...\n",
            " [83  0]\n",
            " [60  1]\n",
            " [82  0]]\n"
          ]
        }
      ]
    },
    {
      "cell_type": "code",
      "source": [
        "print(y)"
      ],
      "metadata": {
        "colab": {
          "base_uri": "https://localhost:8080/"
        },
        "id": "wIAhPqULoo1P",
        "outputId": "27654bde-b4cc-4cfa-de68-139e15786cca"
      },
      "execution_count": 43,
      "outputs": [
        {
          "output_type": "stream",
          "name": "stdout",
          "text": [
            "[0 0 1 0 1 0 0 1 1 0 1 0 1 0 1 1 1 1 1 1 1 0 1 0 0 1 0 0 0 1 1 1 1 0 1 1 0\n",
            " 1 0 0 1 1 0 0 0 0 1 1 0 0 0 0 1 1 1 0 1 0 0 1 0 1 1 1 0 0 1 0 0 0 0 0 1 0\n",
            " 0 1 0 0 1 1 1 0 0 0 0 1 0 0 0 1 0 1 1 1 0 0 1 0 1 0 0 0 0 1 0 0 1 1 1 0 1\n",
            " 0 0 1 1 0 1 1 0 1 0 0 1 1 0 1 0 1 0 0 0 1 0 0 0 1 1 1 1 0 1 0 1 0 0 0 1 0\n",
            " 0 1 1 0 0 1 1 0 0 0 1 0 1 1 0 0 0 1 1 1 0 0 1 0 1 0 0 0 1 0 1 0 0 0 1 1 0\n",
            " 1 1 0 1 1 0 0 0 1 0 0 0 0 1 1 1 1 1 0 1 0 1 0 0 1 1 1 0 0 1 0 0 0 0 0 1 0\n",
            " 1 0 1 0 0 0 1 1 0 0 0 0 0 0 1 1 0 0 0 1 1 0 0 1 1 1 1 1 1 1 0 1 0 1 1 0 0\n",
            " 0 1 1 0 0 1 1 1 0 0 0 1 0 1 1 0 1 1 0 1 0 1 1 0 1 1 1 1 1 1 1 0 1 1 0 1 1\n",
            " 1 1 1 1 0 1 1 0 1 0 1 1 0 0 0 1 1 1 1 0 0 0 0 1 0 1 1 0 1 1 0 1 1 1 0 1 1\n",
            " 0 1 1 1 0 0 0 0 0 1 0 0 0 0 1 1 1 0 1 0 0 1 0 1 0 1 0 0 1 0 0 1 0 0 1 0 1\n",
            " 0 1 0 1 1 1 0 1 0 1 1 1 1 0 1 1 0 1 1 0 0 1 1 0 0 1 1 1 0 1 0 0 0 1 1 0 1\n",
            " 0 1 0 1 1 1 0 0 1 0 0 1 0 1 0 1 0 0 1 1 0 1 0 1 1 1 1 0 0 0 1 1 0 0 1 1 1\n",
            " 0 0 0 0 1 0 1 1 0 0 0 0 1 0 0 0 0 0 1 0 0 1 0 0 0 0 1 1 1 0 1 1 0 1 0 1 1\n",
            " 0 0 1 1 1 0 0 0 1 1 1 0 1 0 1 1 1 1 1 1 1 0 1 0 1 1 0 0 0 1 1 1 0 1 1 1 1\n",
            " 0 1 0 0 0 0 1 1 0 1 1 1 0 1 1 1 0 1 0 1 1 1 0 1 0 1 1 0 1 0 0 1 0 1 1 0 1\n",
            " 0 1 0 0 0 1 1 0 1 1 0 0 1 1 0 1 1 0 0 1 0 0 0 0 0 0 1 0 0 0 0 0 1 1 0 0 1\n",
            " 0 1 1 0 0 1 0 1 0 1 1 1 1 1 1 0 1 0 1 0 1 1 1 1 0 0 0 1 1 1 0 1 1 0 1 1 0\n",
            " 0 0 1 0 0 1 0 0 0 0 0 0 1 1 1 0 0 1 0 0 0 1 1 1 0 0 1 1 0 0 0 1 0 1 1 1 0\n",
            " 0 1 1 1 1 0 1 1 1 1 1 1 1 0 1 1 1 1 1 0 0 0 0 0 0 1 1 1 0 1 0 1 1 0 0 1 0\n",
            " 1 0 0 1 0 0 0 1 0 1 1 1 0 1 0 1 1 0 0 0 1 1 1 0 1 1 1 0 0 0 0 0 1 0 0 1 1\n",
            " 1 0 1 1 1 0 0 0 0 1 0 1 1 1 0 0 1 1 0 1 1 1 0 0 1 1 0 1 1 1 1 1 0 0 1 0 1\n",
            " 1 0 0 1 0 1 1 0 0 1 0 1 1 1 0 1 1 1 0 0 0 0 0 1 0 0 1 0 0 0 1 1 0 0 1 1 1\n",
            " 0 1 1 1 1 1 1 0 1 0 0 1 0 0 1 1 1 1 0 0 0 1 0 0 0 1 1 0 1 0 1 0 0 0 0 0 1\n",
            " 1 1 1 1 0 0 1 1 0 1 0 1 0 1 0 0 0 0 0 1 0 0 1 1 0 1 0 0 0 1 0 1 1 0 0 0 1\n",
            " 0 0 0 0 1 0 0 0 0 0 1 1 0 0 0 0 0 0 1 1 0 0 0 1 1 0 0 1 0 1 0 0 1 0 0 0 0\n",
            " 0 0 0 0 1 1 1 0 1 0 1 1 0 1 0 0 1 1 1 1 0 0 1 1 1 0 0 1 0 1 1 0 1 1 0 1 1\n",
            " 0 0 1 0 1 1 0 0 1 1 0 1 0 0 1 0 0 1 1 1 1 1 1 1 0 0 0 1 0 0 0 1 0]\n"
          ]
        }
      ]
    },
    {
      "cell_type": "code",
      "source": [
        "from sklearn.model_selection import train_test_split\n",
        "x_train, x_test, y_train, y_test = train_test_split(x,y,test_size = 0.25, random_state = 0)"
      ],
      "metadata": {
        "id": "AjKkswJ6ouRa"
      },
      "execution_count": 44,
      "outputs": []
    },
    {
      "cell_type": "code",
      "source": [
        "print(x_train)"
      ],
      "metadata": {
        "colab": {
          "base_uri": "https://localhost:8080/"
        },
        "id": "7HQAgrIOBy_r",
        "outputId": "e17a2697-2af8-47cb-ca3c-cfed9f133ca1"
      },
      "execution_count": 45,
      "outputs": [
        {
          "output_type": "stream",
          "name": "stdout",
          "text": [
            "[[90  0]\n",
            " [73  0]\n",
            " [92  0]\n",
            " ...\n",
            " [83  0]\n",
            " [90  0]\n",
            " [75  1]]\n"
          ]
        }
      ]
    },
    {
      "cell_type": "code",
      "source": [
        "print(y_train)"
      ],
      "metadata": {
        "colab": {
          "base_uri": "https://localhost:8080/"
        },
        "id": "RNtIn-ZzpVAT",
        "outputId": "1b1a40d3-a95e-4802-d55b-1a7d42a598c0"
      },
      "execution_count": 46,
      "outputs": [
        {
          "output_type": "stream",
          "name": "stdout",
          "text": [
            "[0 0 0 0 1 1 0 0 0 1 1 1 1 0 0 1 1 0 0 0 0 1 0 0 1 1 1 1 1 0 0 0 0 0 0 1 0\n",
            " 1 1 1 1 0 1 1 1 0 0 1 0 0 0 0 1 1 1 1 0 1 0 0 1 1 0 0 0 1 1 1 0 0 0 0 0 1\n",
            " 1 0 0 1 1 1 0 1 1 0 1 0 0 1 0 0 1 1 0 1 1 0 1 1 1 0 1 0 0 0 1 1 1 1 0 1 1\n",
            " 0 1 1 1 1 0 0 0 1 0 0 0 1 1 0 1 0 1 0 0 0 1 1 1 0 1 1 0 0 0 0 0 1 0 0 1 0\n",
            " 0 1 1 1 1 0 0 0 1 0 1 0 1 0 1 1 1 0 0 1 1 0 0 1 1 0 1 1 1 1 1 0 1 0 1 1 1\n",
            " 1 1 0 1 1 1 1 0 1 0 0 1 1 1 0 0 0 1 0 1 1 1 0 0 0 1 1 0 0 1 0 0 0 1 0 1 0\n",
            " 0 1 1 0 1 1 0 0 0 0 1 1 1 0 0 0 0 0 1 0 1 1 1 1 1 0 0 0 0 1 1 0 0 0 1 1 0\n",
            " 1 0 1 0 1 0 1 1 1 0 1 0 0 1 0 0 1 1 0 0 0 1 0 0 1 0 1 1 0 0 1 1 0 1 0 0 0\n",
            " 1 0 0 0 0 1 1 0 0 0 0 0 1 0 0 0 1 0 0 1 0 0 1 0 0 1 0 0 1 0 1 1 0 0 0 0 0\n",
            " 0 0 1 0 0 0 1 0 0 1 0 0 0 0 0 0 0 0 0 0 0 1 0 1 0 1 1 1 1 1 1 0 0 1 1 1 0\n",
            " 0 1 0 0 1 1 1 0 0 0 0 0 1 0 1 0 0 1 1 1 1 1 1 0 1 1 0 1 0 0 0 1 0 1 0 1 0\n",
            " 0 0 0 1 0 1 1 0 0 0 0 1 1 1 0 0 1 1 1 0 1 0 0 0 1 1 1 1 1 0 1 1 0 0 1 0 0\n",
            " 0 0 1 1 1 1 0 1 1 1 0 1 0 1 0 0 1 1 1 0 0 0 0 0 1 1 0 0 0 0 0 0 1 1 1 0 1\n",
            " 0 0 1 0 0 0 0 1 0 1 0 1 0 1 0 1 1 1 0 0 1 0 0 0 0 1 1 1 1 0 0 1 0 0 0 1 0\n",
            " 1 0 1 0 1 0 1 1 0 1 1 0 0 1 1 0 0 0 1 0 1 1 0 0 1 0 1 1 1 0 1 0 1 0 0 0 1\n",
            " 1 1 0 0 1 1 1 0 1 1 1 0 0 0 1 0 0 1 1 0 0 0 0 1 0 1 1 0 1 1 1 1 1 1 0 0 0\n",
            " 0 0 0 0 1 1 1 0 1 0 1 1 1 0 1 1 1 0 0 0 0 0 0 1 0 1 0 1 1 1 0 1 1 0 1 1 0\n",
            " 0 1 1 0 1 0 1 1 1 1 0 0 1 0 0 0 0 1 1 1 1 1 0 0 0 0 0 0 0 1 0 1 0 1 1 1 0\n",
            " 1 0 0 1 1 0 0 1 1 1 1 0 0 0 1 1 0 0 0 1 1 0 1 1 0 0 1 1 1 0 1 1 1 0 0 0 0\n",
            " 0 1 0 0 1 1 1 0 0 0 0 0 1 1 0 1 1 0 0 0 0 1 0 0 1 1 0 1 0 1 0 0 0 1 0 0 0\n",
            " 0 1 0 0 0 1]\n"
          ]
        }
      ]
    },
    {
      "cell_type": "code",
      "source": [
        "print(x_test)"
      ],
      "metadata": {
        "colab": {
          "base_uri": "https://localhost:8080/"
        },
        "id": "dRG-YA-QCI6K",
        "outputId": "f0fefc2c-b400-4f9d-b350-7c6802eef719"
      },
      "execution_count": 47,
      "outputs": [
        {
          "output_type": "stream",
          "name": "stdout",
          "text": [
            "[[73  1]\n",
            " [73  1]\n",
            " [68  1]\n",
            " [82  1]\n",
            " [85  0]\n",
            " [95  0]\n",
            " [70  1]\n",
            " [67  1]\n",
            " [82  0]\n",
            " [68  1]\n",
            " [95  0]\n",
            " [87  0]\n",
            " [70  1]\n",
            " [63  1]\n",
            " [67  1]\n",
            " [77  1]\n",
            " [75  1]\n",
            " [92  0]\n",
            " [70  1]\n",
            " [80  1]\n",
            " [88  0]\n",
            " [88  0]\n",
            " [80  1]\n",
            " [83  0]\n",
            " [67  1]\n",
            " [67  1]\n",
            " [73  0]\n",
            " [80  0]\n",
            " [83  0]\n",
            " [85  0]\n",
            " [67  1]\n",
            " [70  1]\n",
            " [90  0]\n",
            " [92  0]\n",
            " [83  0]\n",
            " [77  1]\n",
            " [83  0]\n",
            " [70  1]\n",
            " [65  1]\n",
            " [65  1]\n",
            " [65  1]\n",
            " [75  1]\n",
            " [90  0]\n",
            " [92  0]\n",
            " [90  0]\n",
            " [77  0]\n",
            " [88  0]\n",
            " [80  1]\n",
            " [83  0]\n",
            " [92  0]\n",
            " [88  1]\n",
            " [90  0]\n",
            " [78  1]\n",
            " [88  1]\n",
            " [88  0]\n",
            " [87  0]\n",
            " [87  0]\n",
            " [78  1]\n",
            " [70  1]\n",
            " [85  0]\n",
            " [68  1]\n",
            " [80  0]\n",
            " [70  1]\n",
            " [90  0]\n",
            " [67  1]\n",
            " [83  0]\n",
            " [87  0]\n",
            " [70  1]\n",
            " [77  1]\n",
            " [68  1]\n",
            " [87  0]\n",
            " [67  1]\n",
            " [82  0]\n",
            " [77  1]\n",
            " [88  0]\n",
            " [63  1]\n",
            " [75  1]\n",
            " [60  1]\n",
            " [83  0]\n",
            " [77  1]\n",
            " [83  1]\n",
            " [60  1]\n",
            " [67  1]\n",
            " [77  1]\n",
            " [87  1]\n",
            " [70  1]\n",
            " [83  1]\n",
            " [87  0]\n",
            " [77  0]\n",
            " [85  0]\n",
            " [58  1]\n",
            " [87  0]\n",
            " [90  0]\n",
            " [82  0]\n",
            " [63  1]\n",
            " [87  0]\n",
            " [68  1]\n",
            " [85  0]\n",
            " [90  0]\n",
            " [78  1]\n",
            " [88  0]\n",
            " [82  1]\n",
            " [78  1]\n",
            " [82  0]\n",
            " [80  0]\n",
            " [95  0]\n",
            " [90  0]\n",
            " [75  1]\n",
            " [67  1]\n",
            " [88  0]\n",
            " [80  0]\n",
            " [67  1]\n",
            " [68  1]\n",
            " [93  0]\n",
            " [73  1]\n",
            " [73  1]\n",
            " [80  0]\n",
            " [82  1]\n",
            " [80  0]\n",
            " [73  1]\n",
            " [77  1]\n",
            " [85  1]\n",
            " [68  1]\n",
            " [78  0]\n",
            " [62  1]\n",
            " [85  0]\n",
            " [88  0]\n",
            " [68  1]\n",
            " [72  1]\n",
            " [87  0]\n",
            " [72  1]\n",
            " [65  1]\n",
            " [78  1]\n",
            " [77  1]\n",
            " [92  0]\n",
            " [93  0]\n",
            " [65  1]\n",
            " [72  1]\n",
            " [88  0]\n",
            " [87  0]\n",
            " [57  1]\n",
            " [72  1]\n",
            " [68  1]\n",
            " [70  1]\n",
            " [83  0]\n",
            " [77  1]\n",
            " [88  0]\n",
            " [82  1]\n",
            " [87  0]\n",
            " [73  1]\n",
            " [68  1]\n",
            " [92  0]\n",
            " [68  1]\n",
            " [80  0]\n",
            " [78  1]\n",
            " [82  0]\n",
            " [78  1]\n",
            " [67  1]\n",
            " [72  1]\n",
            " [73  1]\n",
            " [88  0]\n",
            " [62  1]\n",
            " [90  0]\n",
            " [90  0]\n",
            " [72  1]\n",
            " [92  0]\n",
            " [80  1]\n",
            " [82  1]\n",
            " [75  1]\n",
            " [83  0]\n",
            " [82  0]\n",
            " [83  0]\n",
            " [80  0]\n",
            " [83  0]\n",
            " [92  0]\n",
            " [83  0]\n",
            " [83  0]\n",
            " [75  1]\n",
            " [73  1]\n",
            " [68  1]\n",
            " [68  1]\n",
            " [93  0]\n",
            " [75  1]\n",
            " [62  1]\n",
            " [93  0]\n",
            " [82  0]\n",
            " [60  1]\n",
            " [80  1]\n",
            " [70  1]\n",
            " [77  1]\n",
            " [88  0]\n",
            " [77  1]\n",
            " [85  0]\n",
            " [58  1]\n",
            " [68  1]\n",
            " [83  1]\n",
            " [75  1]\n",
            " [80  0]\n",
            " [62  1]\n",
            " [73  1]\n",
            " [60  1]\n",
            " [87  0]\n",
            " [60  1]\n",
            " [73  1]\n",
            " [65  1]\n",
            " [67  1]\n",
            " [87  0]\n",
            " [90  0]\n",
            " [73  1]\n",
            " [78  1]\n",
            " [68  1]\n",
            " [62  1]\n",
            " [82  0]\n",
            " [75  1]\n",
            " [70  1]\n",
            " [75  1]\n",
            " [88  0]\n",
            " [78  1]\n",
            " [88  0]\n",
            " [75  1]\n",
            " [75  1]\n",
            " [87  0]\n",
            " [73  1]\n",
            " [90  0]\n",
            " [72  1]\n",
            " [77  1]\n",
            " [62  1]\n",
            " [68  1]\n",
            " [63  1]\n",
            " [82  0]\n",
            " [83  0]\n",
            " [72  1]\n",
            " [67  1]\n",
            " [70  1]\n",
            " [97  0]\n",
            " [82  0]\n",
            " [87  0]\n",
            " [63  1]\n",
            " [63  1]\n",
            " [80  1]\n",
            " [78  1]\n",
            " [87  1]\n",
            " [70  1]\n",
            " [90  0]\n",
            " [67  1]\n",
            " [72  1]\n",
            " [90  0]\n",
            " [73  1]\n",
            " [90  0]]\n"
          ]
        }
      ]
    },
    {
      "cell_type": "code",
      "source": [
        "print(y_test)"
      ],
      "metadata": {
        "colab": {
          "base_uri": "https://localhost:8080/"
        },
        "id": "EtDCySfjCM_8",
        "outputId": "207ee965-dc50-4bb9-c458-fd8f130f62c7"
      },
      "execution_count": 49,
      "outputs": [
        {
          "output_type": "stream",
          "name": "stdout",
          "text": [
            "[1 1 1 1 0 0 1 1 0 1 0 0 1 1 1 1 1 0 1 1 0 0 1 0 1 1 0 0 0 0 1 1 0 0 0 1 0\n",
            " 1 1 1 1 1 0 0 0 0 0 1 0 0 1 0 1 1 0 0 0 1 1 0 1 0 1 0 1 0 0 1 1 1 0 1 0 1\n",
            " 0 1 1 1 0 1 1 1 1 1 1 1 1 0 0 0 1 0 0 0 1 0 1 0 0 1 0 1 1 0 0 0 0 1 1 0 0\n",
            " 1 1 0 1 1 0 1 0 1 1 1 1 0 1 0 0 1 1 0 1 1 1 1 0 0 1 1 0 0 1 1 1 1 0 1 0 1\n",
            " 0 1 1 0 1 0 1 0 1 1 1 1 0 1 0 0 1 0 1 1 1 0 0 0 0 0 0 0 0 1 1 1 1 0 1 1 0\n",
            " 0 1 1 1 1 0 1 0 1 1 1 1 0 1 1 1 0 1 1 1 1 0 0 1 1 1 1 0 1 1 1 0 1 0 1 1 0\n",
            " 1 0 1 1 1 1 1 0 0 1 1 1 0 0 0 1 1 1 1 1 1 0 1 1 0 1 0]\n"
          ]
        }
      ]
    },
    {
      "cell_type": "code",
      "source": [
        "from sklearn.preprocessing import StandardScaler\n",
        "sc = StandardScaler()\n",
        "x_train = sc.fit_transform(x_train)\n",
        "x_test = sc.transform(x_test)"
      ],
      "metadata": {
        "id": "68dd8bDMpDaA"
      },
      "execution_count": 50,
      "outputs": []
    },
    {
      "cell_type": "code",
      "source": [
        "print(x_train)"
      ],
      "metadata": {
        "colab": {
          "base_uri": "https://localhost:8080/"
        },
        "id": "hzeIJmgNpk-I",
        "outputId": "a6742be2-740b-4fb8-94fe-55769b3f52dc"
      },
      "execution_count": 52,
      "outputs": [
        {
          "output_type": "stream",
          "name": "stdout",
          "text": [
            "[[ 1.11441825 -0.94774407]\n",
            " [-0.71533994 -0.94774407]\n",
            " [ 1.32968392 -0.94774407]\n",
            " ...\n",
            " [ 0.36098841 -0.94774407]\n",
            " [ 1.11441825 -0.94774407]\n",
            " [-0.50007427  1.05513717]]\n"
          ]
        }
      ]
    },
    {
      "cell_type": "code",
      "source": [
        "print(x_test)"
      ],
      "metadata": {
        "colab": {
          "base_uri": "https://localhost:8080/"
        },
        "id": "xtHhJLD6CVOL",
        "outputId": "b2ceb2bd-5856-4c21-989d-ba2dca670f68"
      },
      "execution_count": 53,
      "outputs": [
        {
          "output_type": "stream",
          "name": "stdout",
          "text": [
            "[[-0.71533994  1.05513717]\n",
            " [-0.71533994  1.05513717]\n",
            " [-1.25350411  1.05513717]\n",
            " [ 0.25335557  1.05513717]\n",
            " [ 0.57625408 -0.94774407]\n",
            " [ 1.65258242 -0.94774407]\n",
            " [-1.03823844  1.05513717]\n",
            " [-1.36113694  1.05513717]\n",
            " [ 0.25335557 -0.94774407]\n",
            " [-1.25350411  1.05513717]\n",
            " [ 1.65258242 -0.94774407]\n",
            " [ 0.79151975 -0.94774407]\n",
            " [-1.03823844  1.05513717]\n",
            " [-1.79166828  1.05513717]\n",
            " [-1.36113694  1.05513717]\n",
            " [-0.2848086   1.05513717]\n",
            " [-0.50007427  1.05513717]\n",
            " [ 1.32968392 -0.94774407]\n",
            " [-1.03823844  1.05513717]\n",
            " [ 0.0380899   1.05513717]\n",
            " [ 0.89915258 -0.94774407]\n",
            " [ 0.89915258 -0.94774407]\n",
            " [ 0.0380899   1.05513717]\n",
            " [ 0.36098841 -0.94774407]\n",
            " [-1.36113694  1.05513717]\n",
            " [-1.36113694  1.05513717]\n",
            " [-0.71533994 -0.94774407]\n",
            " [ 0.0380899  -0.94774407]\n",
            " [ 0.36098841 -0.94774407]\n",
            " [ 0.57625408 -0.94774407]\n",
            " [-1.36113694  1.05513717]\n",
            " [-1.03823844  1.05513717]\n",
            " [ 1.11441825 -0.94774407]\n",
            " [ 1.32968392 -0.94774407]\n",
            " [ 0.36098841 -0.94774407]\n",
            " [-0.2848086   1.05513717]\n",
            " [ 0.36098841 -0.94774407]\n",
            " [-1.03823844  1.05513717]\n",
            " [-1.57640261  1.05513717]\n",
            " [-1.57640261  1.05513717]\n",
            " [-1.57640261  1.05513717]\n",
            " [-0.50007427  1.05513717]\n",
            " [ 1.11441825 -0.94774407]\n",
            " [ 1.32968392 -0.94774407]\n",
            " [ 1.11441825 -0.94774407]\n",
            " [-0.2848086  -0.94774407]\n",
            " [ 0.89915258 -0.94774407]\n",
            " [ 0.0380899   1.05513717]\n",
            " [ 0.36098841 -0.94774407]\n",
            " [ 1.32968392 -0.94774407]\n",
            " [ 0.89915258  1.05513717]\n",
            " [ 1.11441825 -0.94774407]\n",
            " [-0.17717577  1.05513717]\n",
            " [ 0.89915258  1.05513717]\n",
            " [ 0.89915258 -0.94774407]\n",
            " [ 0.79151975 -0.94774407]\n",
            " [ 0.79151975 -0.94774407]\n",
            " [-0.17717577  1.05513717]\n",
            " [-1.03823844  1.05513717]\n",
            " [ 0.57625408 -0.94774407]\n",
            " [-1.25350411  1.05513717]\n",
            " [ 0.0380899  -0.94774407]\n",
            " [-1.03823844  1.05513717]\n",
            " [ 1.11441825 -0.94774407]\n",
            " [-1.36113694  1.05513717]\n",
            " [ 0.36098841 -0.94774407]\n",
            " [ 0.79151975 -0.94774407]\n",
            " [-1.03823844  1.05513717]\n",
            " [-0.2848086   1.05513717]\n",
            " [-1.25350411  1.05513717]\n",
            " [ 0.79151975 -0.94774407]\n",
            " [-1.36113694  1.05513717]\n",
            " [ 0.25335557 -0.94774407]\n",
            " [-0.2848086   1.05513717]\n",
            " [ 0.89915258 -0.94774407]\n",
            " [-1.79166828  1.05513717]\n",
            " [-0.50007427  1.05513717]\n",
            " [-2.11456679  1.05513717]\n",
            " [ 0.36098841 -0.94774407]\n",
            " [-0.2848086   1.05513717]\n",
            " [ 0.36098841  1.05513717]\n",
            " [-2.11456679  1.05513717]\n",
            " [-1.36113694  1.05513717]\n",
            " [-0.2848086   1.05513717]\n",
            " [ 0.79151975  1.05513717]\n",
            " [-1.03823844  1.05513717]\n",
            " [ 0.36098841  1.05513717]\n",
            " [ 0.79151975 -0.94774407]\n",
            " [-0.2848086  -0.94774407]\n",
            " [ 0.57625408 -0.94774407]\n",
            " [-2.32983245  1.05513717]\n",
            " [ 0.79151975 -0.94774407]\n",
            " [ 1.11441825 -0.94774407]\n",
            " [ 0.25335557 -0.94774407]\n",
            " [-1.79166828  1.05513717]\n",
            " [ 0.79151975 -0.94774407]\n",
            " [-1.25350411  1.05513717]\n",
            " [ 0.57625408 -0.94774407]\n",
            " [ 1.11441825 -0.94774407]\n",
            " [-0.17717577  1.05513717]\n",
            " [ 0.89915258 -0.94774407]\n",
            " [ 0.25335557  1.05513717]\n",
            " [-0.17717577  1.05513717]\n",
            " [ 0.25335557 -0.94774407]\n",
            " [ 0.0380899  -0.94774407]\n",
            " [ 1.65258242 -0.94774407]\n",
            " [ 1.11441825 -0.94774407]\n",
            " [-0.50007427  1.05513717]\n",
            " [-1.36113694  1.05513717]\n",
            " [ 0.89915258 -0.94774407]\n",
            " [ 0.0380899  -0.94774407]\n",
            " [-1.36113694  1.05513717]\n",
            " [-1.25350411  1.05513717]\n",
            " [ 1.43731675 -0.94774407]\n",
            " [-0.71533994  1.05513717]\n",
            " [-0.71533994  1.05513717]\n",
            " [ 0.0380899  -0.94774407]\n",
            " [ 0.25335557  1.05513717]\n",
            " [ 0.0380899  -0.94774407]\n",
            " [-0.71533994  1.05513717]\n",
            " [-0.2848086   1.05513717]\n",
            " [ 0.57625408  1.05513717]\n",
            " [-1.25350411  1.05513717]\n",
            " [-0.17717577 -0.94774407]\n",
            " [-1.89930112  1.05513717]\n",
            " [ 0.57625408 -0.94774407]\n",
            " [ 0.89915258 -0.94774407]\n",
            " [-1.25350411  1.05513717]\n",
            " [-0.82297277  1.05513717]\n",
            " [ 0.79151975 -0.94774407]\n",
            " [-0.82297277  1.05513717]\n",
            " [-1.57640261  1.05513717]\n",
            " [-0.17717577  1.05513717]\n",
            " [-0.2848086   1.05513717]\n",
            " [ 1.32968392 -0.94774407]\n",
            " [ 1.43731675 -0.94774407]\n",
            " [-1.57640261  1.05513717]\n",
            " [-0.82297277  1.05513717]\n",
            " [ 0.89915258 -0.94774407]\n",
            " [ 0.79151975 -0.94774407]\n",
            " [-2.43746529  1.05513717]\n",
            " [-0.82297277  1.05513717]\n",
            " [-1.25350411  1.05513717]\n",
            " [-1.03823844  1.05513717]\n",
            " [ 0.36098841 -0.94774407]\n",
            " [-0.2848086   1.05513717]\n",
            " [ 0.89915258 -0.94774407]\n",
            " [ 0.25335557  1.05513717]\n",
            " [ 0.79151975 -0.94774407]\n",
            " [-0.71533994  1.05513717]\n",
            " [-1.25350411  1.05513717]\n",
            " [ 1.32968392 -0.94774407]\n",
            " [-1.25350411  1.05513717]\n",
            " [ 0.0380899  -0.94774407]\n",
            " [-0.17717577  1.05513717]\n",
            " [ 0.25335557 -0.94774407]\n",
            " [-0.17717577  1.05513717]\n",
            " [-1.36113694  1.05513717]\n",
            " [-0.82297277  1.05513717]\n",
            " [-0.71533994  1.05513717]\n",
            " [ 0.89915258 -0.94774407]\n",
            " [-1.89930112  1.05513717]\n",
            " [ 1.11441825 -0.94774407]\n",
            " [ 1.11441825 -0.94774407]\n",
            " [-0.82297277  1.05513717]\n",
            " [ 1.32968392 -0.94774407]\n",
            " [ 0.0380899   1.05513717]\n",
            " [ 0.25335557  1.05513717]\n",
            " [-0.50007427  1.05513717]\n",
            " [ 0.36098841 -0.94774407]\n",
            " [ 0.25335557 -0.94774407]\n",
            " [ 0.36098841 -0.94774407]\n",
            " [ 0.0380899  -0.94774407]\n",
            " [ 0.36098841 -0.94774407]\n",
            " [ 1.32968392 -0.94774407]\n",
            " [ 0.36098841 -0.94774407]\n",
            " [ 0.36098841 -0.94774407]\n",
            " [-0.50007427  1.05513717]\n",
            " [-0.71533994  1.05513717]\n",
            " [-1.25350411  1.05513717]\n",
            " [-1.25350411  1.05513717]\n",
            " [ 1.43731675 -0.94774407]\n",
            " [-0.50007427  1.05513717]\n",
            " [-1.89930112  1.05513717]\n",
            " [ 1.43731675 -0.94774407]\n",
            " [ 0.25335557 -0.94774407]\n",
            " [-2.11456679  1.05513717]\n",
            " [ 0.0380899   1.05513717]\n",
            " [-1.03823844  1.05513717]\n",
            " [-0.2848086   1.05513717]\n",
            " [ 0.89915258 -0.94774407]\n",
            " [-0.2848086   1.05513717]\n",
            " [ 0.57625408 -0.94774407]\n",
            " [-2.32983245  1.05513717]\n",
            " [-1.25350411  1.05513717]\n",
            " [ 0.36098841  1.05513717]\n",
            " [-0.50007427  1.05513717]\n",
            " [ 0.0380899  -0.94774407]\n",
            " [-1.89930112  1.05513717]\n",
            " [-0.71533994  1.05513717]\n",
            " [-2.11456679  1.05513717]\n",
            " [ 0.79151975 -0.94774407]\n",
            " [-2.11456679  1.05513717]\n",
            " [-0.71533994  1.05513717]\n",
            " [-1.57640261  1.05513717]\n",
            " [-1.36113694  1.05513717]\n",
            " [ 0.79151975 -0.94774407]\n",
            " [ 1.11441825 -0.94774407]\n",
            " [-0.71533994  1.05513717]\n",
            " [-0.17717577  1.05513717]\n",
            " [-1.25350411  1.05513717]\n",
            " [-1.89930112  1.05513717]\n",
            " [ 0.25335557 -0.94774407]\n",
            " [-0.50007427  1.05513717]\n",
            " [-1.03823844  1.05513717]\n",
            " [-0.50007427  1.05513717]\n",
            " [ 0.89915258 -0.94774407]\n",
            " [-0.17717577  1.05513717]\n",
            " [ 0.89915258 -0.94774407]\n",
            " [-0.50007427  1.05513717]\n",
            " [-0.50007427  1.05513717]\n",
            " [ 0.79151975 -0.94774407]\n",
            " [-0.71533994  1.05513717]\n",
            " [ 1.11441825 -0.94774407]\n",
            " [-0.82297277  1.05513717]\n",
            " [-0.2848086   1.05513717]\n",
            " [-1.89930112  1.05513717]\n",
            " [-1.25350411  1.05513717]\n",
            " [-1.79166828  1.05513717]\n",
            " [ 0.25335557 -0.94774407]\n",
            " [ 0.36098841 -0.94774407]\n",
            " [-0.82297277  1.05513717]\n",
            " [-1.36113694  1.05513717]\n",
            " [-1.03823844  1.05513717]\n",
            " [ 1.86784809 -0.94774407]\n",
            " [ 0.25335557 -0.94774407]\n",
            " [ 0.79151975 -0.94774407]\n",
            " [-1.79166828  1.05513717]\n",
            " [-1.79166828  1.05513717]\n",
            " [ 0.0380899   1.05513717]\n",
            " [-0.17717577  1.05513717]\n",
            " [ 0.79151975  1.05513717]\n",
            " [-1.03823844  1.05513717]\n",
            " [ 1.11441825 -0.94774407]\n",
            " [-1.36113694  1.05513717]\n",
            " [-0.82297277  1.05513717]\n",
            " [ 1.11441825 -0.94774407]\n",
            " [-0.71533994  1.05513717]\n",
            " [ 1.11441825 -0.94774407]]\n"
          ]
        }
      ]
    },
    {
      "cell_type": "code",
      "source": [
        "from sklearn.naive_bayes import GaussianNB\n",
        "classifier = GaussianNB()\n",
        "classifier.fit(x_train, y_train)"
      ],
      "metadata": {
        "colab": {
          "base_uri": "https://localhost:8080/",
          "height": 74
        },
        "id": "8qm29A6opVja",
        "outputId": "43c7fe42-d098-4ffb-a9a3-d2aa5bce1d2e"
      },
      "execution_count": 54,
      "outputs": [
        {
          "output_type": "execute_result",
          "data": {
            "text/plain": [
              "GaussianNB()"
            ],
            "text/html": [
              "<style>#sk-container-id-4 {color: black;background-color: white;}#sk-container-id-4 pre{padding: 0;}#sk-container-id-4 div.sk-toggleable {background-color: white;}#sk-container-id-4 label.sk-toggleable__label {cursor: pointer;display: block;width: 100%;margin-bottom: 0;padding: 0.3em;box-sizing: border-box;text-align: center;}#sk-container-id-4 label.sk-toggleable__label-arrow:before {content: \"▸\";float: left;margin-right: 0.25em;color: #696969;}#sk-container-id-4 label.sk-toggleable__label-arrow:hover:before {color: black;}#sk-container-id-4 div.sk-estimator:hover label.sk-toggleable__label-arrow:before {color: black;}#sk-container-id-4 div.sk-toggleable__content {max-height: 0;max-width: 0;overflow: hidden;text-align: left;background-color: #f0f8ff;}#sk-container-id-4 div.sk-toggleable__content pre {margin: 0.2em;color: black;border-radius: 0.25em;background-color: #f0f8ff;}#sk-container-id-4 input.sk-toggleable__control:checked~div.sk-toggleable__content {max-height: 200px;max-width: 100%;overflow: auto;}#sk-container-id-4 input.sk-toggleable__control:checked~label.sk-toggleable__label-arrow:before {content: \"▾\";}#sk-container-id-4 div.sk-estimator input.sk-toggleable__control:checked~label.sk-toggleable__label {background-color: #d4ebff;}#sk-container-id-4 div.sk-label input.sk-toggleable__control:checked~label.sk-toggleable__label {background-color: #d4ebff;}#sk-container-id-4 input.sk-hidden--visually {border: 0;clip: rect(1px 1px 1px 1px);clip: rect(1px, 1px, 1px, 1px);height: 1px;margin: -1px;overflow: hidden;padding: 0;position: absolute;width: 1px;}#sk-container-id-4 div.sk-estimator {font-family: monospace;background-color: #f0f8ff;border: 1px dotted black;border-radius: 0.25em;box-sizing: border-box;margin-bottom: 0.5em;}#sk-container-id-4 div.sk-estimator:hover {background-color: #d4ebff;}#sk-container-id-4 div.sk-parallel-item::after {content: \"\";width: 100%;border-bottom: 1px solid gray;flex-grow: 1;}#sk-container-id-4 div.sk-label:hover label.sk-toggleable__label {background-color: #d4ebff;}#sk-container-id-4 div.sk-serial::before {content: \"\";position: absolute;border-left: 1px solid gray;box-sizing: border-box;top: 0;bottom: 0;left: 50%;z-index: 0;}#sk-container-id-4 div.sk-serial {display: flex;flex-direction: column;align-items: center;background-color: white;padding-right: 0.2em;padding-left: 0.2em;position: relative;}#sk-container-id-4 div.sk-item {position: relative;z-index: 1;}#sk-container-id-4 div.sk-parallel {display: flex;align-items: stretch;justify-content: center;background-color: white;position: relative;}#sk-container-id-4 div.sk-item::before, #sk-container-id-4 div.sk-parallel-item::before {content: \"\";position: absolute;border-left: 1px solid gray;box-sizing: border-box;top: 0;bottom: 0;left: 50%;z-index: -1;}#sk-container-id-4 div.sk-parallel-item {display: flex;flex-direction: column;z-index: 1;position: relative;background-color: white;}#sk-container-id-4 div.sk-parallel-item:first-child::after {align-self: flex-end;width: 50%;}#sk-container-id-4 div.sk-parallel-item:last-child::after {align-self: flex-start;width: 50%;}#sk-container-id-4 div.sk-parallel-item:only-child::after {width: 0;}#sk-container-id-4 div.sk-dashed-wrapped {border: 1px dashed gray;margin: 0 0.4em 0.5em 0.4em;box-sizing: border-box;padding-bottom: 0.4em;background-color: white;}#sk-container-id-4 div.sk-label label {font-family: monospace;font-weight: bold;display: inline-block;line-height: 1.2em;}#sk-container-id-4 div.sk-label-container {text-align: center;}#sk-container-id-4 div.sk-container {/* jupyter's `normalize.less` sets `[hidden] { display: none; }` but bootstrap.min.css set `[hidden] { display: none !important; }` so we also need the `!important` here to be able to override the default hidden behavior on the sphinx rendered scikit-learn.org. See: https://github.com/scikit-learn/scikit-learn/issues/21755 */display: inline-block !important;position: relative;}#sk-container-id-4 div.sk-text-repr-fallback {display: none;}</style><div id=\"sk-container-id-4\" class=\"sk-top-container\"><div class=\"sk-text-repr-fallback\"><pre>GaussianNB()</pre><b>In a Jupyter environment, please rerun this cell to show the HTML representation or trust the notebook. <br />On GitHub, the HTML representation is unable to render, please try loading this page with nbviewer.org.</b></div><div class=\"sk-container\" hidden><div class=\"sk-item\"><div class=\"sk-estimator sk-toggleable\"><input class=\"sk-toggleable__control sk-hidden--visually\" id=\"sk-estimator-id-4\" type=\"checkbox\" checked><label for=\"sk-estimator-id-4\" class=\"sk-toggleable__label sk-toggleable__label-arrow\">GaussianNB</label><div class=\"sk-toggleable__content\"><pre>GaussianNB()</pre></div></div></div></div></div>"
            ]
          },
          "metadata": {},
          "execution_count": 54
        }
      ]
    },
    {
      "cell_type": "code",
      "source": [
        "y_pred = classifier.predict(x_test)"
      ],
      "metadata": {
        "id": "bgrrIaqQpga8"
      },
      "execution_count": 55,
      "outputs": []
    },
    {
      "cell_type": "code",
      "source": [
        "from sklearn.metrics import confusion_matrix\n",
        "cm = confusion_matrix(y_test, y_pred)\n",
        "print(cm)"
      ],
      "metadata": {
        "colab": {
          "base_uri": "https://localhost:8080/"
        },
        "id": "i39IMPvjplAl",
        "outputId": "f072c217-d621-496b-f4f2-5d59a824e1c0"
      },
      "execution_count": 56,
      "outputs": [
        {
          "output_type": "stream",
          "name": "stdout",
          "text": [
            "[[104   0]\n",
            " [  0 145]]\n"
          ]
        }
      ]
    },
    {
      "cell_type": "code",
      "source": [
        "from matplotlib.colors import ListedColormap\n",
        "x_set, y_set = x_train, y_train\n",
        "x1, x2 = np.meshgrid(np.arange(start = x_set[:, 0].min() - 1, stop = x_set[:, 0].max() + 1, step = 0.01),\n",
        "                     np.arange(start = x_set[:, 1].min() - 1, stop = x_set[:, 1].max() + 1, step = 0.01))\n",
        "plt.contourf(x1, x2, classifier.predict(np.array([x1.ravel(), x2.ravel()]).T).reshape(x1.shape),\n",
        "             alpha = 0.75, cmap = ListedColormap(('red','green')))\n",
        "plt.xlim(x1.min(), x1.max())\n",
        "plt.ylim(x2.min(), x2.max())\n",
        "for i, j in enumerate(np.unique(y_set)):\n",
        "  plt.scatter(x_set[y_set == j, 0], x_set[y_set == j, 1],\n",
        "              c = ListedColormap(('red', 'green'))(i), label = j)\n",
        "plt.title('Naive Bayes (Training set)')\n",
        "plt.xlabel('Glucose')\n",
        "plt.ylabel('Blood Preasure')\n",
        "plt.legend()\n",
        "plt.show()"
      ],
      "metadata": {
        "colab": {
          "base_uri": "https://localhost:8080/",
          "height": 527
        },
        "id": "--WMf-8Jptjf",
        "outputId": "e12bf543-685b-4cdc-9e0c-72afea892a6e"
      },
      "execution_count": 59,
      "outputs": [
        {
          "output_type": "stream",
          "name": "stderr",
          "text": [
            "<ipython-input-59-a56d7ad9ad0a>:10: UserWarning: *c* argument looks like a single numeric RGB or RGBA sequence, which should be avoided as value-mapping will have precedence in case its length matches with *x* & *y*.  Please use the *color* keyword-argument or provide a 2D array with a single row if you intend to specify the same RGB or RGBA value for all points.\n",
            "  plt.scatter(x_set[y_set == j, 0], x_set[y_set == j, 1],\n"
          ]
        },
        {
          "output_type": "display_data",
          "data": {
            "text/plain": [
              "<Figure size 640x480 with 1 Axes>"
            ],
            "image/png": "[encoded data removed]"
          },
          "metadata": {}
        }
      ]
    },
    {
      "cell_type": "code",
      "source": [
        "from matplotlib.colors import ListedColormap\n",
        "x_set, y_set = x_test, y_test\n",
        "x1, x2 = np.meshgrid(np.arange(start = x_set[:, 0].min() - 1, stop = x_set[:, 0].max() + 1, step = 0.01),\n",
        "                     np.arange(start = x_set[:, 1].min() - 1, stop = x_set[:, 1].max() + 1, step = 0.01))\n",
        "plt.contourf(x1, x2, classifier.predict(np.array([x1.ravel(), x2.ravel()]).T).reshape(x1.shape),\n",
        "             alpha = 0.75, cmap = ListedColormap(('red','green')))\n",
        "plt.xlim(x1.min(), x1.max())\n",
        "plt.ylim(x2.min(), x2.max())\n",
        "for i, j in enumerate(np.unique(y_set)):\n",
        "  plt.scatter(x_set[y_set == j, 0], x_set[y_set == j, 1],\n",
        "              c = ListedColormap(('red', 'green'))(i), label = j)\n",
        "plt.title('Naive Bayes (Test set)')\n",
        "plt.xlabel('Glucose')\n",
        "plt.ylabel('Blood Preasure')\n",
        "plt.legend()\n",
        "plt.show()"
      ],
      "metadata": {
        "colab": {
          "base_uri": "https://localhost:8080/",
          "height": 527
        },
        "id": "4cmZTbDAs_mv",
        "outputId": "c8e21eb3-4ab5-4e30-c468-efa2501b74cd"
      },
      "execution_count": 58,
      "outputs": [
        {
          "output_type": "stream",
          "name": "stderr",
          "text": [
            "<ipython-input-58-bc97483278e4>:10: UserWarning: *c* argument looks like a single numeric RGB or RGBA sequence, which should be avoided as value-mapping will have precedence in case its length matches with *x* & *y*.  Please use the *color* keyword-argument or provide a 2D array with a single row if you intend to specify the same RGB or RGBA value for all points.\n",
            "  plt.scatter(x_set[y_set == j, 0], x_set[y_set == j, 1],\n"
          ]
        },
        {
          "output_type": "display_data",
          "data": {
            "text/plain": [
              "<Figure size 640x480 with 1 Axes>"
            ],
            "image/png": "[encoded data removed]"
          },
          "metadata": {}
        }
      ]
    }
  ]
}